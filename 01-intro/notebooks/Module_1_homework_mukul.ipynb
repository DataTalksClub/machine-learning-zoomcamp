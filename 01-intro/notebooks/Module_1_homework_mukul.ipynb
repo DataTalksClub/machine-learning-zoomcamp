{
 "cells": [
  {
   "cell_type": "code",
   "execution_count": 1,
   "id": "71862418-f4ad-47f0-8642-beeaa9f41480",
   "metadata": {},
   "outputs": [],
   "source": [
    "import pandas as pd\n"
   ]
  },
  {
   "cell_type": "code",
   "execution_count": 2,
   "id": "d0df5094-35c3-49ef-8f61-8e67564b614d",
   "metadata": {},
   "outputs": [],
   "source": [
    "df=pd.read_csv('https://raw.githubusercontent.com/alexeygrigorev/datasets/master/car_fuel_efficiency.csv')"
   ]
  },
  {
   "cell_type": "markdown",
   "id": "c1dc36f3-072f-4906-9e6e-67cb61f3ae5d",
   "metadata": {},
   "source": [
    "Pandas Version"
   ]
  },
  {
   "cell_type": "code",
   "execution_count": 3,
   "id": "a0a8550b-df7f-4af7-a009-1c88ebf65ab8",
   "metadata": {},
   "outputs": [
    {
     "name": "stdout",
     "output_type": "stream",
     "text": [
      "2.3.1\n"
     ]
    }
   ],
   "source": [
    "print(pd.__version__)"
   ]
  },
  {
   "cell_type": "markdown",
   "id": "6905a399-f781-463b-b90f-bd6afe2f6856",
   "metadata": {},
   "source": [
    "Records count\n"
   ]
  },
  {
   "cell_type": "code",
   "execution_count": 4,
   "id": "780438fe-fb09-4684-b416-5330c3e69f47",
   "metadata": {},
   "outputs": [
    {
     "data": {
      "text/plain": [
       "9704"
      ]
     },
     "execution_count": 4,
     "metadata": {},
     "output_type": "execute_result"
    }
   ],
   "source": [
    "len(df)"
   ]
  },
  {
   "cell_type": "markdown",
   "id": "62931f89-5846-41db-976b-b2dac8ec718f",
   "metadata": {},
   "source": [
    "How many fuel types are presented in the dataset?"
   ]
  },
  {
   "cell_type": "code",
   "execution_count": 6,
   "id": "372ba920-1bc1-4757-bfe3-1fa0f3c19b96",
   "metadata": {},
   "outputs": [
    {
     "data": {
      "text/plain": [
       "array(['Gasoline', 'Diesel'], dtype=object)"
      ]
     },
     "execution_count": 6,
     "metadata": {},
     "output_type": "execute_result"
    }
   ],
   "source": [
    "df['fuel_type'].unique()"
   ]
  },
  {
   "cell_type": "markdown",
   "id": "73ce0b70-264a-4de0-ac27-6b414210cc6c",
   "metadata": {},
   "source": [
    "How many columns in the dataset have missing values?"
   ]
  },
  {
   "cell_type": "markdown",
   "id": "731bff56-89ee-4303-b7c6-d79ddb36c2de",
   "metadata": {},
   "source": [
    "(df.isnull().sum() > 0).sum() "
   ]
  },
  {
   "cell_type": "markdown",
   "id": "b3694a27-80d0-44a9-b95f-61fa4ad13c6a",
   "metadata": {},
   "source": [
    "What's the maximum fuel efficiency of cars from Asia?"
   ]
  },
  {
   "cell_type": "code",
   "execution_count": 8,
   "id": "f045200e-d821-44d6-bc80-47a5b50dd902",
   "metadata": {},
   "outputs": [
    {
     "data": {
      "text/plain": [
       "np.float64(23.759122836520497)"
      ]
     },
     "execution_count": 8,
     "metadata": {},
     "output_type": "execute_result"
    }
   ],
   "source": [
    "df[df['origin'] == 'Asia']['fuel_efficiency_mpg'].max()"
   ]
  },
  {
   "cell_type": "markdown",
   "id": "713f5049-be99-4276-9da8-f7cdc1d7555f",
   "metadata": {},
   "source": [
    "Find the median value of the horsepower column:"
   ]
  },
  {
   "cell_type": "code",
   "execution_count": 9,
   "id": "a5f4daf8-66d9-4218-a4f4-c56ef2b3a153",
   "metadata": {},
   "outputs": [
    {
     "name": "stdout",
     "output_type": "stream",
     "text": [
      "Median of horsepower with existing datasets: 149.0\n"
     ]
    }
   ],
   "source": [
    "median_horsepower_raw = df['horsepower'].median()\n",
    "print(f\"Median of horsepower with existing datasets: {median_horsepower_raw}\")"
   ]
  },
  {
   "cell_type": "markdown",
   "id": "92a801d3-293a-4270-871c-f8bdd995dcc2",
   "metadata": {},
   "source": [
    "calculate the most frequent value of the same horsepower column"
   ]
  },
  {
   "cell_type": "code",
   "execution_count": 10,
   "id": "b2f79174-03a2-4e01-9d27-c37e5aa97ede",
   "metadata": {},
   "outputs": [
    {
     "name": "stdout",
     "output_type": "stream",
     "text": [
      "Most frequent value of horsepower: 152.0\n"
     ]
    }
   ],
   "source": [
    "most_frequent_horsepower = df['horsepower'].mode()[0]\n",
    "print(f\"Most frequent value of horsepower: {most_frequent_horsepower}\")"
   ]
  },
  {
   "cell_type": "markdown",
   "id": "15582035-b8ba-4685-b7e7-76871979c3d4",
   "metadata": {},
   "source": [
    "Use the fillna method to fill the missing values in the horsepower column with the most frequent value from the previous step"
   ]
  },
  {
   "cell_type": "code",
   "execution_count": 11,
   "id": "8dd8c980-8292-4643-8a9e-7cf1a37ff02a",
   "metadata": {},
   "outputs": [],
   "source": [
    "df['horsepower'] = df['horsepower'].fillna(most_frequent_horsepower)"
   ]
  },
  {
   "cell_type": "markdown",
   "id": "4ab782c3-62e4-4233-a961-912d881374e3",
   "metadata": {},
   "source": [
    "calculate the median value of horsepower once again"
   ]
  },
  {
   "cell_type": "code",
   "execution_count": 13,
   "id": "c8e6e7ab-a52c-4ba4-ae92-6a92319f6ae2",
   "metadata": {},
   "outputs": [
    {
     "name": "stdout",
     "output_type": "stream",
     "text": [
      "Median of horsepower after replacement: 152.0\n"
     ]
    }
   ],
   "source": [
    "median_horsepower_after_replacing_null = df['horsepower'].median()\n",
    "print(f\"Median of horsepower after replacement: {median_horsepower_after_replacing_null}\")"
   ]
  },
  {
   "cell_type": "markdown",
   "id": "4b8fa5cd-d44d-4e12-9911-fe955495342b",
   "metadata": {},
   "source": [
    "Select all the cars from Asia"
   ]
  },
  {
   "cell_type": "code",
   "execution_count": 14,
   "id": "28f44bd8-ccd9-4805-9ab6-cd23d9281c75",
   "metadata": {},
   "outputs": [],
   "source": [
    "asia_cars = df[df['origin'] == 'Asia']"
   ]
  },
  {
   "cell_type": "markdown",
   "id": "86e86b4f-1947-4be8-a4e1-71fac80e3179",
   "metadata": {},
   "source": [
    "Select only the columns vehicle_weight and model_year:"
   ]
  },
  {
   "cell_type": "code",
   "execution_count": 15,
   "id": "2ca0a068-a8f2-44ae-b264-428449e2ce9b",
   "metadata": {},
   "outputs": [],
   "source": [
    "asia_cars = asia_cars[['vehicle_weight', 'model_year']]"
   ]
  },
  {
   "cell_type": "markdown",
   "id": "9931201c-320b-47fe-a2ef-c38ed4b54d7c",
   "metadata": {},
   "source": [
    "Select the first 7 rows"
   ]
  },
  {
   "cell_type": "code",
   "execution_count": 16,
   "id": "04fce1a3-eadf-4836-a826-d0b875fae364",
   "metadata": {},
   "outputs": [],
   "source": [
    "X = asia_cars.head(7).values"
   ]
  },
  {
   "cell_type": "markdown",
   "id": "4e9be6e8-7fa1-4212-9a46-350ddd437629",
   "metadata": {},
   "source": [
    "Compute matrix-matrix multiplication between the transpose of X and X (i.e., XTX):"
   ]
  },
  {
   "cell_type": "code",
   "execution_count": 17,
   "id": "0852a29d-956b-4412-959a-78d03e7aa698",
   "metadata": {},
   "outputs": [],
   "source": [
    "import numpy as np\n",
    "\n",
    "XTX = np.dot(X.T, X)"
   ]
  },
  {
   "cell_type": "markdown",
   "id": "7ff48207-7d80-4915-a76a-3cd7fad8a66e",
   "metadata": {},
   "source": [
    "Invert XTX"
   ]
  },
  {
   "cell_type": "code",
   "execution_count": 18,
   "id": "a2dd30c4-1607-4772-9440-69b70dc6643e",
   "metadata": {},
   "outputs": [],
   "source": [
    "XTX_inv = np.linalg.inv(XTX)"
   ]
  },
  {
   "cell_type": "markdown",
   "id": "f9108aae-7781-46ef-82fe-6fe3045182d3",
   "metadata": {},
   "source": [
    "Create an array y with values [1100, 1300, 800, 900, 1000, 1100, 1200]"
   ]
  },
  {
   "cell_type": "code",
   "execution_count": 19,
   "id": "30d0bfea-3113-46a6-bf6b-b2eb6664ade6",
   "metadata": {},
   "outputs": [],
   "source": [
    "y = np.array([1100, 1300, 800, 900, 1000, 1100, 1200])"
   ]
  },
  {
   "cell_type": "markdown",
   "id": "c4f7e7a3-a944-4437-b9ef-6995379999a4",
   "metadata": {},
   "source": [
    "Multiply the inverse of XTX with the transpose of X, and then multiply the result by y. Call the result w."
   ]
  },
  {
   "cell_type": "code",
   "execution_count": 20,
   "id": "d514b49e-24ed-4b4b-bdf3-8cd97992a32f",
   "metadata": {},
   "outputs": [],
   "source": [
    "w = np.dot(np.dot(XTX_inv, X.T), y)"
   ]
  },
  {
   "cell_type": "markdown",
   "id": "69aef8ed-e658-4b39-b158-30751094a68e",
   "metadata": {},
   "source": [
    "What's the sum of all the elements of the result?"
   ]
  },
  {
   "cell_type": "code",
   "execution_count": 21,
   "id": "b36a4671-0d60-46e9-af55-992189c83f26",
   "metadata": {},
   "outputs": [
    {
     "data": {
      "text/plain": [
       "np.float64(0.5187709081074016)"
      ]
     },
     "execution_count": 21,
     "metadata": {},
     "output_type": "execute_result"
    }
   ],
   "source": [
    "w.sum()"
   ]
  },
  {
   "cell_type": "code",
   "execution_count": null,
   "id": "972b7d9a-0ab8-4443-b1c0-b64f8914d889",
   "metadata": {},
   "outputs": [],
   "source": []
  }
 ],
 "metadata": {
  "kernelspec": {
   "display_name": "Python 3 (ipykernel)",
   "language": "python",
   "name": "python3"
  },
  "language_info": {
   "codemirror_mode": {
    "name": "ipython",
    "version": 3
   },
   "file_extension": ".py",
   "mimetype": "text/x-python",
   "name": "python",
   "nbconvert_exporter": "python",
   "pygments_lexer": "ipython3",
   "version": "3.12.1"
  }
 },
 "nbformat": 4,
 "nbformat_minor": 5
}
