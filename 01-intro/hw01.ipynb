{
 "cells": [
  {
   "cell_type": "code",
   "execution_count": 1,
   "id": "1999d483",
   "metadata": {},
   "outputs": [],
   "source": [
    "import pandas as pd\n",
    "import numpy as np\n",
    "import matplotlib.pyplot as plt\n",
    "import seaborn as sns"
   ]
  },
  {
   "cell_type": "code",
   "execution_count": 2,
   "id": "0c0d6120",
   "metadata": {},
   "outputs": [
    {
     "data": {
      "text/plain": [
       "'2.3.2'"
      ]
     },
     "execution_count": 2,
     "metadata": {},
     "output_type": "execute_result"
    }
   ],
   "source": [
    "#Q1 Get pandas Version\n",
    "pd.__version__"
   ]
  },
  {
   "cell_type": "code",
   "execution_count": 6,
   "id": "c3046ec2",
   "metadata": {},
   "outputs": [],
   "source": [
    "#GET DATASET\n",
    "df = pd.read_csv('https://raw.githubusercontent.com/alexeygrigorev/datasets/master/car_fuel_efficiency.csv')"
   ]
  },
  {
   "cell_type": "code",
   "execution_count": null,
   "id": "ab36d485",
   "metadata": {},
   "outputs": [
    {
     "data": {
      "text/plain": [
       "9704"
      ]
     },
     "execution_count": 11,
     "metadata": {},
     "output_type": "execute_result"
    }
   ],
   "source": [
    "# Q2. Records count through shape attribute of the dataframe column 0.\n",
    "df.shape[0]\n",
    "#There are 9704 records in the dataset.\n",
    "#confirmed by len(df)\n",
    "len(df)\n"
   ]
  },
  {
   "cell_type": "code",
   "execution_count": null,
   "id": "eff949c6",
   "metadata": {},
   "outputs": [
    {
     "name": "stdout",
     "output_type": "stream",
     "text": [
      "there are :  2 fuel types in the dataset\n"
     ]
    }
   ],
   "source": [
    "# Q3. Fuel types\n",
    "#here i will use .unique() method to get the unique values in the fuel column so that i can achieve the answer to \"how many fuel types are in hte dataset\".\n",
    "#get col_names\n",
    "df.columns\n",
    "#target column is named 'fuel_type'\n",
    "#now get number(count ) of unique values in the fuel_type column using .nunique() method\n",
    "df['fuel_type'].nunique()\n",
    "print(\"There are : \", df['fuel_type'].nunique(), \"fuel types in the dataset\")"
   ]
  },
  {
   "cell_type": "code",
   "execution_count": null,
   "id": "fbd53a68",
   "metadata": {},
   "outputs": [
    {
     "name": "stdout",
     "output_type": "stream",
     "text": [
      "There are: 4 columns with missing values\n"
     ]
    }
   ],
   "source": [
    "# Q4. Missing values\n",
    "# How many columns in the dataset have missing values?\n",
    "from operator import gt\n",
    "\n",
    "num_missing_cols = df.isnull().sum().gt(0).sum()\n",
    "print(\"There are:\", num_missing_cols, \"columns with missing values\")\n",
    "# df.isnull().sum() counts missing values for each column.\n",
    "\n",
    "# .gt(0)  turns those counts into True/False (True if value is missing).\n",
    "\n",
    "# .sum()  sums the Trues which is the number of columns with missing values.\n"
   ]
  },
  {
   "cell_type": "code",
   "execution_count": 36,
   "id": "56c80472",
   "metadata": {},
   "outputs": [
    {
     "name": "stdout",
     "output_type": "stream",
     "text": [
      "The maximum fuel efficiency of cars from Asia is: 23.759122836520497\n",
      "23.76\n"
     ]
    }
   ],
   "source": [
    "# Q5. Max fuel efficiency\n",
    "# What's the maximum fuel efficiency of cars from Asia?\n",
    "#get col names and country name spelling right\n",
    "df.columns\n",
    "df.origin.unique()\n",
    "# target column is 'fuel_efficiency_mpg' and origin column is 'origin'\n",
    "max_asia = df[df['origin'] == 'Asia']['fuel_efficiency_mpg'].max()\n",
    "print(\"The maximum fuel efficiency of cars from Asia is:\", max_asia)\n",
    "#round max_Asia to 2 decimal places\n",
    "rounded_asia_max = round(max_asia, 2)\n",
    "print(rounded_asia_max)\n"
   ]
  },
  {
   "cell_type": "code",
   "execution_count": 39,
   "id": "79db4740",
   "metadata": {},
   "outputs": [
    {
     "name": "stdout",
     "output_type": "stream",
     "text": [
      "The median value of horsepower column in the dataset is: 152.0\n",
      "The most frequent value of the horsepower column in the dataset is: 152.0\n",
      "The new median value of horsepower column in the dataset is: 152.0\n"
     ]
    },
    {
     "name": "stderr",
     "output_type": "stream",
     "text": [
      "C:\\Users\\GK111\\AppData\\Local\\Temp\\ipykernel_7352\\2634807815.py:10: FutureWarning: A value is trying to be set on a copy of a DataFrame or Series through chained assignment using an inplace method.\n",
      "The behavior will change in pandas 3.0. This inplace method will never work because the intermediate object on which we are setting values always behaves as a copy.\n",
      "\n",
      "For example, when doing 'df[col].method(value, inplace=True)', try using 'df.method({col: value}, inplace=True)' or df[col] = df[col].method(value) instead, to perform the operation inplace on the original object.\n",
      "\n",
      "\n",
      "  df['horsepower'].fillna(mode_hp, inplace=True)\n"
     ]
    }
   ],
   "source": [
    "# Q6. Median value of horsepower\n",
    "# 1. Find the median value of horsepower column in the dataset.\n",
    "median_hp = df['horsepower'].median()\n",
    "print(\"The median value of horsepower column in the dataset is:\", median_hp)\n",
    "\n",
    "# 2. Next, calculate the most frequent value of the same horsepower column.== mode\n",
    "mode_hp = df['horsepower'].mode()[0]\n",
    "print(\"The most frequent value of the horsepower column in the dataset is:\", mode_hp)\n",
    "# 3. Use fillna method to fill the missing values in horsepower column with the most frequent value from the previous step.\n",
    "df['horsepower'].fillna(mode_hp, inplace=True)\n",
    "# 4. Now, calculate the median value of horsepower once again.\n",
    "new_median_hp = df['horsepower'].median()\n",
    "print(\"The new median value of horsepower column in the dataset is:\", new_median_hp)"
   ]
  },
  {
   "cell_type": "code",
   "execution_count": 40,
   "id": "171f0ea3",
   "metadata": {},
   "outputs": [
    {
     "name": "stdout",
     "output_type": "stream",
     "text": [
      "The sum of all the elements of the result is: 0.5187709081074039\n"
     ]
    }
   ],
   "source": [
    "# Q7. Sum of weights\n",
    "# 1. Select all the cars from Asia\n",
    "asia_cars = df[df['origin'] == 'Asia']\n",
    "# 2. Select only columns vehicle_weight and model_year\n",
    "asia_cars = asia_cars[['vehicle_weight', 'model_year']]\n",
    "# 3. Select the first 7 values\n",
    "asia_cars = asia_cars.head(7)\n",
    "# Get the underlying NumPy array. Let's call it X.\n",
    "X = asia_cars.to_numpy()\n",
    "# Compute matrix-matrix multiplication between the transpose of X and X. To get the transpose, use X.T. Let's call the result XTX.\n",
    "XTX = X.T.dot(X)\n",
    "# Invert XTX.\n",
    "XTX_inv = np.linalg.pinv(XTX)\n",
    "# Create an array y with values [1100, 1300, 800, 900, 1000, 1100, 1200].\n",
    "y = np.array([1100, 1300, 800, 900, 1000, 1100, 1200])\n",
    "# Multiply the inverse of XTX with the transpose of X, and then multiply the result by y. Call the result w.\n",
    "w = XTX_inv.dot(X.T).dot(y)\n",
    "# What's the sum of all the elements of the result?\n",
    "sum_w = w.sum()\n",
    "print(\"The sum of all the elements of the result is:\", sum_w)"
   ]
  },
  {
   "cell_type": "markdown",
   "id": "dac23121",
   "metadata": {},
   "source": [
    "\n",
    "##### happy days"
   ]
  },
  {
   "cell_type": "markdown",
   "id": "ee97f8aa",
   "metadata": {},
   "source": []
  }
 ],
 "metadata": {
  "kernelspec": {
   "display_name": "dsenv",
   "language": "python",
   "name": "python3"
  },
  "language_info": {
   "codemirror_mode": {
    "name": "ipython",
    "version": 3
   },
   "file_extension": ".py",
   "mimetype": "text/x-python",
   "name": "python",
   "nbconvert_exporter": "python",
   "pygments_lexer": "ipython3",
   "version": "3.11.13"
  }
 },
 "nbformat": 4,
 "nbformat_minor": 5
}
