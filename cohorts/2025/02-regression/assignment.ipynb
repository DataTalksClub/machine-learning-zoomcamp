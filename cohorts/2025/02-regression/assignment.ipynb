{
 "cells": [
  {
   "cell_type": "markdown",
   "id": "6e83ee05",
   "metadata": {},
   "source": [
    "# Module 2 ? Regression Homework (2025 cohort)\n",
    "\n",
    "Recreates every step from the assignment so the outputs can be verified before submitting the multiple-choice answers."
   ]
  },
  {
   "cell_type": "markdown",
   "id": "b7f44188",
   "metadata": {},
   "source": [
    "## 1. Environment & Imports\n",
    "\n",
    "We work with a small set of libraries: NumPy, Pandas, and the linear models that come with scikit-learn."
   ]
  },
  {
   "cell_type": "code",
   "execution_count": 1,
   "id": "8d6d7687",
   "metadata": {},
   "outputs": [],
   "source": [
    "import numpy as np\n",
    "import pandas as pd\n",
    "from sklearn.linear_model import LinearRegression, Ridge\n",
    "\n",
    "pd.set_option('display.float_format', lambda x: f'{x:.5f}')"
   ]
  },
  {
   "cell_type": "markdown",
   "id": "6e08872b",
   "metadata": {},
   "source": [
    "## 2. Load the dataset\n",
    "\n",
    "Only the columns specified in the homework brief are required, so we filter at read time to reduce the DataFrame to the relevant features plus the target."
   ]
  },
  {
   "cell_type": "code",
   "execution_count": 2,
   "id": "8ceef4f1",
   "metadata": {},
   "outputs": [
    {
     "data": {
      "text/html": [
       "<div>\n",
       "<style scoped>\n",
       "    .dataframe tbody tr th:only-of-type {\n",
       "        vertical-align: middle;\n",
       "    }\n",
       "\n",
       "    .dataframe tbody tr th {\n",
       "        vertical-align: top;\n",
       "    }\n",
       "\n",
       "    .dataframe thead th {\n",
       "        text-align: right;\n",
       "    }\n",
       "</style>\n",
       "<table border=\"1\" class=\"dataframe\">\n",
       "  <thead>\n",
       "    <tr style=\"text-align: right;\">\n",
       "      <th></th>\n",
       "      <th>engine_displacement</th>\n",
       "      <th>horsepower</th>\n",
       "      <th>vehicle_weight</th>\n",
       "      <th>model_year</th>\n",
       "      <th>fuel_efficiency_mpg</th>\n",
       "    </tr>\n",
       "  </thead>\n",
       "  <tbody>\n",
       "    <tr>\n",
       "      <th>0</th>\n",
       "      <td>170</td>\n",
       "      <td>159.00000</td>\n",
       "      <td>3413.43376</td>\n",
       "      <td>2003</td>\n",
       "      <td>13.23173</td>\n",
       "    </tr>\n",
       "    <tr>\n",
       "      <th>1</th>\n",
       "      <td>130</td>\n",
       "      <td>97.00000</td>\n",
       "      <td>3149.66493</td>\n",
       "      <td>2007</td>\n",
       "      <td>13.68822</td>\n",
       "    </tr>\n",
       "    <tr>\n",
       "      <th>2</th>\n",
       "      <td>170</td>\n",
       "      <td>78.00000</td>\n",
       "      <td>3079.03900</td>\n",
       "      <td>2018</td>\n",
       "      <td>14.24634</td>\n",
       "    </tr>\n",
       "    <tr>\n",
       "      <th>3</th>\n",
       "      <td>220</td>\n",
       "      <td>NaN</td>\n",
       "      <td>2542.39240</td>\n",
       "      <td>2009</td>\n",
       "      <td>16.91274</td>\n",
       "    </tr>\n",
       "    <tr>\n",
       "      <th>4</th>\n",
       "      <td>210</td>\n",
       "      <td>140.00000</td>\n",
       "      <td>3460.87099</td>\n",
       "      <td>2009</td>\n",
       "      <td>12.48837</td>\n",
       "    </tr>\n",
       "  </tbody>\n",
       "</table>\n",
       "</div>"
      ],
      "text/plain": [
       "   engine_displacement  horsepower  vehicle_weight  model_year  \\\n",
       "0                  170   159.00000      3413.43376        2003   \n",
       "1                  130    97.00000      3149.66493        2007   \n",
       "2                  170    78.00000      3079.03900        2018   \n",
       "3                  220         NaN      2542.39240        2009   \n",
       "4                  210   140.00000      3460.87099        2009   \n",
       "\n",
       "   fuel_efficiency_mpg  \n",
       "0             13.23173  \n",
       "1             13.68822  \n",
       "2             14.24634  \n",
       "3             16.91274  \n",
       "4             12.48837  "
      ]
     },
     "execution_count": 2,
     "metadata": {},
     "output_type": "execute_result"
    }
   ],
   "source": [
    "DATA_URL = 'https://raw.githubusercontent.com/alexeygrigorev/datasets/master/car_fuel_efficiency.csv'\n",
    "COLUMNS = [\n",
    "    'engine_displacement',\n",
    "    'horsepower',\n",
    "    'vehicle_weight',\n",
    "    'model_year',\n",
    "    'fuel_efficiency_mpg',\n",
    "]\n",
    "FEATURES = COLUMNS[:-1]\n",
    "TARGET = 'fuel_efficiency_mpg'\n",
    "\n",
    "df = pd.read_csv(DATA_URL, usecols=COLUMNS)\n",
    "df.head()"
   ]
  },
  {
   "cell_type": "markdown",
   "id": "31499c68",
   "metadata": {},
   "source": [
    "## 3. Distribution Check for the Target\n",
    "\n",
    "We inspect summary statistics and quantiles to decide whether the distribution has a long tail."
   ]
  },
  {
   "cell_type": "code",
   "execution_count": 3,
   "id": "5372111d",
   "metadata": {},
   "outputs": [
    {
     "data": {
      "text/plain": [
       "count   9704.00000\n",
       "mean      14.98524\n",
       "std        2.55647\n",
       "min        6.20097\n",
       "50%       15.00604\n",
       "75%       16.70797\n",
       "90%       18.25946\n",
       "95%       19.15002\n",
       "99%       20.88206\n",
       "max       25.96722\n",
       "Name: fuel_efficiency_mpg, dtype: float64"
      ]
     },
     "execution_count": 3,
     "metadata": {},
     "output_type": "execute_result"
    }
   ],
   "source": [
    "df[TARGET].describe(percentiles=[0.5, 0.75, 0.9, 0.95, 0.99])"
   ]
  },
  {
   "cell_type": "markdown",
   "id": "739862ab",
   "metadata": {},
   "source": [
    "The median MPG is about 15.0, while the 99th percentile is above 20.8. The gradual rise indicates a moderately long right tail, which is enough to answer the EDA prompt in the homework."
   ]
  },
  {
   "cell_type": "markdown",
   "id": "2db5824a",
   "metadata": {},
   "source": [
    "## 4. Missing Values (Q1)\n",
    "\n",
    "Counting missing entries per column points to the feature that requires imputation."
   ]
  },
  {
   "cell_type": "code",
   "execution_count": 4,
   "id": "a837f839",
   "metadata": {},
   "outputs": [
    {
     "data": {
      "text/plain": [
       "engine_displacement      0\n",
       "horsepower             708\n",
       "vehicle_weight           0\n",
       "model_year               0\n",
       "fuel_efficiency_mpg      0\n",
       "dtype: int64"
      ]
     },
     "execution_count": 4,
     "metadata": {},
     "output_type": "execute_result"
    }
   ],
   "source": [
    "missing_counts = df.isna().sum()\n",
    "missing_counts"
   ]
  },
  {
   "cell_type": "markdown",
   "id": "f36e9a05",
   "metadata": {},
   "source": [
    "`horsepower` is the only column with missing values (708 rows). This answers Question 1."
   ]
  },
  {
   "cell_type": "markdown",
   "id": "e7744ce3",
   "metadata": {},
   "source": [
    "## 5. Median Horsepower (Q2)\n",
    "\n",
    "Pandas offers the exact percentile through `median()`."
   ]
  },
  {
   "cell_type": "code",
   "execution_count": 5,
   "id": "43c643b8",
   "metadata": {},
   "outputs": [
    {
     "data": {
      "text/plain": [
       "np.float64(149.0)"
      ]
     },
     "execution_count": 5,
     "metadata": {},
     "output_type": "execute_result"
    }
   ],
   "source": [
    "median_hp = df['horsepower'].median()\n",
    "median_hp"
   ]
  },
  {
   "cell_type": "markdown",
   "id": "b586d2c6",
   "metadata": {},
   "source": [
    "The median horsepower is 149 (Question 2)."
   ]
  },
  {
   "cell_type": "markdown",
   "id": "88de2cf5",
   "metadata": {},
   "source": [
    "## 6. Helper Functions\n",
    "\n",
    "Re-using the same logic as the course videos: shuffle with a fixed seed, do a 60/20/20 split, create design matrices, and compute RMSE by hand."
   ]
  },
  {
   "cell_type": "code",
   "execution_count": 6,
   "id": "ffdbb367",
   "metadata": {},
   "outputs": [],
   "source": [
    "def shuffle_split(dataframe: pd.DataFrame, seed: int = 42):\n",
    "    rng = np.random.default_rng(seed)\n",
    "    indices = np.arange(len(dataframe))\n",
    "    rng.shuffle(indices)\n",
    "    df_shuffled = dataframe.iloc[indices].reset_index(drop=True)\n",
    "\n",
    "    n_total = len(df_shuffled)\n",
    "    n_train = int(0.6 * n_total)\n",
    "    n_val = int(0.2 * n_total)\n",
    "\n",
    "    df_train = df_shuffled.iloc[:n_train].reset_index(drop=True)\n",
    "    df_val = df_shuffled.iloc[n_train:n_train + n_val].reset_index(drop=True)\n",
    "    df_test = df_shuffled.iloc[n_train + n_val:].reset_index(drop=True)\n",
    "\n",
    "    return df_train, df_val, df_test\n",
    "\n",
    "\n",
    "def rmse(y_true: np.ndarray, y_pred: np.ndarray) -> float:\n",
    "    return float(np.sqrt(np.mean((y_true - y_pred) ** 2)))\n",
    "\n",
    "\n",
    "def prepare_xy(frame: pd.DataFrame, fill_value):\n",
    "    x = frame[FEATURES].fillna({'horsepower': fill_value}).to_numpy()\n",
    "    y = frame[TARGET].to_numpy()\n",
    "    return x, y"
   ]
  },
  {
   "cell_type": "markdown",
   "id": "e6e8ea51",
   "metadata": {},
   "source": [
    "## 7. Question 3 ? Imputation Strategy Comparison\n",
    "\n",
    "We stick to seed 42 to match the homework. The `fill_zeros` model sets missing horsepower to 0; the `fill_mean` model uses the training mean and applies it to validation as well."
   ]
  },
  {
   "cell_type": "code",
   "execution_count": 7,
   "id": "08b1b53f",
   "metadata": {},
   "outputs": [
    {
     "data": {
      "text/plain": [
       "(0.52166824787551, 0.46652012986218777)"
      ]
     },
     "execution_count": 7,
     "metadata": {},
     "output_type": "execute_result"
    }
   ],
   "source": [
    "df_train, df_val, df_test = shuffle_split(df, seed=42)\n",
    "\n",
    "X_train_zero, y_train = prepare_xy(df_train, fill_value=0)\n",
    "X_val_zero, y_val = prepare_xy(df_val, fill_value=0)\n",
    "\n",
    "model_zero = LinearRegression()\n",
    "model_zero.fit(X_train_zero, y_train)\n",
    "val_pred_zero = model_zero.predict(X_val_zero)\n",
    "rmse_zero = rmse(y_val, val_pred_zero)\n",
    "\n",
    "hp_mean = df_train['horsepower'].mean()\n",
    "X_train_mean, _ = prepare_xy(df_train, fill_value=hp_mean)\n",
    "X_val_mean, _ = prepare_xy(df_val, fill_value=hp_mean)\n",
    "\n",
    "model_mean = LinearRegression()\n",
    "model_mean.fit(X_train_mean, y_train)\n",
    "val_pred_mean = model_mean.predict(X_val_mean)\n",
    "rmse_mean = rmse(y_val, val_pred_mean)\n",
    "\n",
    "rmse_zero, rmse_mean\n"
   ]
  },
  {
   "cell_type": "markdown",
   "id": "20e92a98",
   "metadata": {},
   "source": [
    "Rounded to two decimals, the RMSE values are `{round(rmse_zero, 2)}` when filling with 0 and `{round(rmse_mean, 2)}` when filling with the mean. Mean imputation performs better, answering Question 3."
   ]
  },
  {
   "cell_type": "markdown",
   "id": "f7e08e9c",
   "metadata": {},
   "source": [
    "## 8. Question 4 ? Regularized Linear Regression\n",
    "\n",
    "Missing values stay at 0 for all runs. We sweep the list of `r` values with Ridge regression and keep the validation RMSE."
   ]
  },
  {
   "cell_type": "code",
   "execution_count": 8,
   "id": "e62a11de",
   "metadata": {},
   "outputs": [
    {
     "data": {
      "text/plain": [
       "{0: 0.52, 0.01: 0.52, 0.1: 0.52, 1: 0.52, 5: 0.52, 10: 0.52, 100: 0.52}"
      ]
     },
     "execution_count": 8,
     "metadata": {},
     "output_type": "execute_result"
    }
   ],
   "source": [
    "ridge_grid = [0, 0.01, 0.1, 1, 5, 10, 100]\n",
    "rmse_by_r = {}\n",
    "\n",
    "for r in ridge_grid:\n",
    "    ridge = Ridge(alpha=r)\n",
    "    ridge.fit(X_train_zero, y_train)\n",
    "    preds = ridge.predict(X_val_zero)\n",
    "    rmse_by_r[r] = rmse(y_val, preds)\n",
    "\n",
    "{key: round(value, 2) for key, value in rmse_by_r.items()}"
   ]
  },
  {
   "cell_type": "markdown",
   "id": "f16cd24e",
   "metadata": {},
   "source": [
    "All options give roughly the same RMSE. Per the instructions, we select the smallest `r` (0)."
   ]
  },
  {
   "cell_type": "markdown",
   "id": "3a98f662",
   "metadata": {},
   "source": [
    "## 9. Question 5 ? Impact of the Random Seed\n",
    "\n",
    "Repeat the train/validation split with seeds 0 through 9, always filling horsepower with 0. Collect the RMSE values and compute their standard deviation."
   ]
  },
  {
   "cell_type": "code",
   "execution_count": 9,
   "id": "ee9185e3",
   "metadata": {},
   "outputs": [
    {
     "data": {
      "text/plain": [
       "([0.5210033268580287,\n",
       "  0.5243954303489885,\n",
       "  0.5251938709279687,\n",
       "  0.5243806735673154,\n",
       "  0.5259017805690743,\n",
       "  0.5252251126484908,\n",
       "  0.5204468326653946,\n",
       "  0.5103918743323342,\n",
       "  0.5203868283492601,\n",
       "  0.5323005287933144],\n",
       " np.float64(0.005336878726231149))"
      ]
     },
     "execution_count": 9,
     "metadata": {},
     "output_type": "execute_result"
    }
   ],
   "source": [
    "seed_range = range(10)\n",
    "rmse_scores = []\n",
    "\n",
    "for seed in seed_range:\n",
    "    df_t, df_v, _ = shuffle_split(df, seed=seed)\n",
    "    x_t, y_t = prepare_xy(df_t, fill_value=0)\n",
    "    x_v, y_v = prepare_xy(df_v, fill_value=0)\n",
    "\n",
    "    model = LinearRegression()\n",
    "    model.fit(x_t, y_t)\n",
    "    preds = model.predict(x_v)\n",
    "\n",
    "    rmse_scores.append(rmse(y_v, preds))\n",
    "\n",
    "rmse_scores, np.std(rmse_scores)"
   ]
  },
  {
   "cell_type": "markdown",
   "id": "1d44b92a",
   "metadata": {},
   "source": [
    "The standard deviation of the validation RMSE values is `{round(np.std(rmse_scores), 3)}`, corresponding to option 0.006 in Question 5. The low spread indicates that the model is stable with respect to the random split choice."
   ]
  },
  {
   "cell_type": "markdown",
   "id": "80e1f01f",
   "metadata": {},
   "source": [
    "## 10. Question 6 ? Final Model on the Test Set\n",
    "\n",
    "Follow the homework instructions: split with seed 9, combine train and validation, fill NA with 0, train Ridge with `r = 0.001`, then score on the held-out test set."
   ]
  },
  {
   "cell_type": "code",
   "execution_count": 10,
   "id": "23fb54da",
   "metadata": {},
   "outputs": [
    {
     "data": {
      "text/plain": [
       "0.5045579433148385"
      ]
     },
     "execution_count": 10,
     "metadata": {},
     "output_type": "execute_result"
    }
   ],
   "source": [
    "df_train_9, df_val_9, df_test_9 = shuffle_split(df, seed=9)\n",
    "\n",
    "df_full_train = pd.concat([df_train_9, df_val_9]).reset_index(drop=True)\n",
    "X_full_train, y_full_train = prepare_xy(df_full_train, fill_value=0)\n",
    "X_test_9, y_test_9 = prepare_xy(df_test_9, fill_value=0)\n",
    "\n",
    "final_model = Ridge(alpha=0.001)\n",
    "final_model.fit(X_full_train, y_full_train)\n",
    "\n",
    "test_predictions = final_model.predict(X_test_9)\n",
    "rmse_test = rmse(y_test_9, test_predictions)\n",
    "rmse_test"
   ]
  },
  {
   "cell_type": "markdown",
   "id": "2203e2f2",
   "metadata": {},
   "source": [
    "Rounded to three decimals, the test RMSE is `{round(rmse_test, 3)}` (Question 6)."
   ]
  },
  {
   "cell_type": "markdown",
   "id": "5494d9de",
   "metadata": {},
   "source": [
    "## 11. Summary Table for Submission\n",
    "\n",
    "Collect the exact numbers to copy into the course form."
   ]
  },
  {
   "cell_type": "code",
   "execution_count": 11,
   "id": "a9cba416",
   "metadata": {},
   "outputs": [
    {
     "data": {
      "text/plain": [
       "{'Q1_missing_column': 'horsepower',\n",
       " 'Q2_median_hp': np.float64(149.0),\n",
       " 'Q3_rmse_fill_zero': 0.52,\n",
       " 'Q3_rmse_fill_mean': 0.47,\n",
       " 'Q3_best_option': 'mean',\n",
       " 'Q4_best_r': 0,\n",
       " 'Q5_std_rmse': 0.005,\n",
       " 'Q6_test_rmse': 0.505}"
      ]
     },
     "execution_count": 11,
     "metadata": {},
     "output_type": "execute_result"
    }
   ],
   "source": [
    "summary = {\n",
    "    'Q1_missing_column': 'horsepower',\n",
    "    'Q2_median_hp': median_hp,\n",
    "    'Q3_rmse_fill_zero': round(rmse_zero, 2),\n",
    "    'Q3_rmse_fill_mean': round(rmse_mean, 2),\n",
    "    'Q3_best_option': 'mean',\n",
    "    'Q4_best_r': min([r for r, score in rmse_by_r.items() if abs(score - min(rmse_by_r.values())) < 1e-8]),\n",
    "    'Q5_std_rmse': round(float(np.std(rmse_scores)), 3),\n",
    "    'Q6_test_rmse': round(rmse_test, 3),\n",
    "}\n",
    "summary"
   ]
  }
 ],
 "metadata": {
  "kernelspec": {
   "display_name": "Python 3 (ipykernel)",
   "language": "python",
   "name": "python3"
  },
  "language_info": {
   "codemirror_mode": {
    "name": "ipython",
    "version": 3
   },
   "file_extension": ".py",
   "mimetype": "text/x-python",
   "name": "python",
   "nbconvert_exporter": "python",
   "pygments_lexer": "ipython3",
   "version": "3.13.3"
  }
 },
 "nbformat": 4,
 "nbformat_minor": 5
}
