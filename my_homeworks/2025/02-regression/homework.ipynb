{
 "cells": [
  {
   "cell_type": "markdown",
   "id": "0b915a08",
   "metadata": {},
   "source": [
    "# 02 — Regression Homework\n",
    "\n",
    "My notes and code for the car fuel efficiency homework.\n",
    "I'm keeping it simple and following the course flow.\n",
    "The CSV file is in the same folder as this notebook.\n"
   ]
  },
  {
   "cell_type": "code",
   "execution_count": 11,
   "id": "e5ac4a7f",
   "metadata": {},
   "outputs": [],
   "source": [
    "import numpy as np\n",
    "import pandas as pd\n",
    "from sklearn.linear_model import LinearRegression, Ridge\n",
    "from sklearn.metrics import mean_squared_error"
   ]
  },
  {
   "cell_type": "code",
   "execution_count": 12,
   "id": "a4678723",
   "metadata": {},
   "outputs": [
    {
     "data": {
      "application/vnd.microsoft.datawrangler.viewer.v0+json": {
       "columns": [
        {
         "name": "index",
         "rawType": "int64",
         "type": "integer"
        },
        {
         "name": "engine_displacement",
         "rawType": "int64",
         "type": "integer"
        },
        {
         "name": "horsepower",
         "rawType": "float64",
         "type": "float"
        },
        {
         "name": "vehicle_weight",
         "rawType": "float64",
         "type": "float"
        },
        {
         "name": "model_year",
         "rawType": "int64",
         "type": "integer"
        },
        {
         "name": "fuel_efficiency_mpg",
         "rawType": "float64",
         "type": "float"
        }
       ],
       "ref": "40adce30-7ffa-45a5-9222-eadd32d45745",
       "rows": [
        [
         "0",
         "170",
         "159.0",
         "3413.433758606219",
         "2003",
         "13.231728906241411"
        ],
        [
         "1",
         "130",
         "97.0",
         "3149.664934220036",
         "2007",
         "13.688217435463793"
        ],
        [
         "2",
         "170",
         "78.0",
         "3079.03899736884",
         "2018",
         "14.246340998160866"
        ],
        [
         "3",
         "220",
         null,
         "2542.392401828378",
         "2009",
         "16.91273559598635"
        ],
        [
         "4",
         "210",
         "140.0",
         "3460.870989989018",
         "2009",
         "12.488369121964562"
        ]
       ],
       "shape": {
        "columns": 5,
        "rows": 5
       }
      },
      "text/html": [
       "<div>\n",
       "<style scoped>\n",
       "    .dataframe tbody tr th:only-of-type {\n",
       "        vertical-align: middle;\n",
       "    }\n",
       "\n",
       "    .dataframe tbody tr th {\n",
       "        vertical-align: top;\n",
       "    }\n",
       "\n",
       "    .dataframe thead th {\n",
       "        text-align: right;\n",
       "    }\n",
       "</style>\n",
       "<table border=\"1\" class=\"dataframe\">\n",
       "  <thead>\n",
       "    <tr style=\"text-align: right;\">\n",
       "      <th></th>\n",
       "      <th>engine_displacement</th>\n",
       "      <th>horsepower</th>\n",
       "      <th>vehicle_weight</th>\n",
       "      <th>model_year</th>\n",
       "      <th>fuel_efficiency_mpg</th>\n",
       "    </tr>\n",
       "  </thead>\n",
       "  <tbody>\n",
       "    <tr>\n",
       "      <th>0</th>\n",
       "      <td>170</td>\n",
       "      <td>159.0</td>\n",
       "      <td>3413.433759</td>\n",
       "      <td>2003</td>\n",
       "      <td>13.231729</td>\n",
       "    </tr>\n",
       "    <tr>\n",
       "      <th>1</th>\n",
       "      <td>130</td>\n",
       "      <td>97.0</td>\n",
       "      <td>3149.664934</td>\n",
       "      <td>2007</td>\n",
       "      <td>13.688217</td>\n",
       "    </tr>\n",
       "    <tr>\n",
       "      <th>2</th>\n",
       "      <td>170</td>\n",
       "      <td>78.0</td>\n",
       "      <td>3079.038997</td>\n",
       "      <td>2018</td>\n",
       "      <td>14.246341</td>\n",
       "    </tr>\n",
       "    <tr>\n",
       "      <th>3</th>\n",
       "      <td>220</td>\n",
       "      <td>NaN</td>\n",
       "      <td>2542.392402</td>\n",
       "      <td>2009</td>\n",
       "      <td>16.912736</td>\n",
       "    </tr>\n",
       "    <tr>\n",
       "      <th>4</th>\n",
       "      <td>210</td>\n",
       "      <td>140.0</td>\n",
       "      <td>3460.870990</td>\n",
       "      <td>2009</td>\n",
       "      <td>12.488369</td>\n",
       "    </tr>\n",
       "  </tbody>\n",
       "</table>\n",
       "</div>"
      ],
      "text/plain": [
       "   engine_displacement  horsepower  vehicle_weight  model_year  \\\n",
       "0                  170       159.0     3413.433759        2003   \n",
       "1                  130        97.0     3149.664934        2007   \n",
       "2                  170        78.0     3079.038997        2018   \n",
       "3                  220         NaN     2542.392402        2009   \n",
       "4                  210       140.0     3460.870990        2009   \n",
       "\n",
       "   fuel_efficiency_mpg  \n",
       "0            13.231729  \n",
       "1            13.688217  \n",
       "2            14.246341  \n",
       "3            16.912736  \n",
       "4            12.488369  "
      ]
     },
     "execution_count": 12,
     "metadata": {},
     "output_type": "execute_result"
    }
   ],
   "source": [
    "# config\n",
    "DATA_FILE = 'car_fuel_efficiency.csv'\n",
    "FEATURES = ['engine_displacement', 'horsepower', 'vehicle_weight', 'model_year']\n",
    "TARGET = 'fuel_efficiency_mpg'\n",
    "\n",
    "df = pd.read_csv(DATA_FILE)\n",
    "df = df[FEATURES + [TARGET]].copy()\n",
    "df.head()\n"
   ]
  },
  {
   "cell_type": "markdown",
   "id": "1e953dba",
   "metadata": {},
   "source": [
    "## EDA\n",
    "Quick look at the target to see its range and shape.\n"
   ]
  },
  {
   "cell_type": "code",
   "execution_count": 13,
   "id": "701e71a2",
   "metadata": {},
   "outputs": [
    {
     "data": {
      "image/png": "[encoded data removed]",
      "text/plain": [
       "<Figure size 640x480 with 1 Axes>"
      ]
     },
     "metadata": {},
     "output_type": "display_data"
    }
   ],
   "source": [
    "df[TARGET].describe()\n",
    "\n",
    "ax = df[TARGET].hist(bins=30)\n",
    "ax.set_xlabel(TARGET); ax.set_ylabel('count');\n"
   ]
  },
  {
   "cell_type": "markdown",
   "id": "615e6c88",
   "metadata": {},
   "source": [
    "## Q1 and Q2 — quick checks\n",
    "Find which feature has missing values and the median horsepower.\n"
   ]
  },
  {
   "cell_type": "code",
   "execution_count": 14,
   "id": "a23e3aa6",
   "metadata": {},
   "outputs": [
    {
     "name": "stdout",
     "output_type": "stream",
     "text": [
      "Missing values per feature:\n",
      "engine_displacement      0\n",
      "horsepower             708\n",
      "vehicle_weight           0\n",
      "model_year               0\n",
      "Columns with missing values: horsepower\n",
      "Median horsepower: 149.0\n"
     ]
    }
   ],
   "source": [
    "# Q1: which feature has missing values?\n",
    "missing_counts = df[FEATURES].isna().sum()\n",
    "print('Missing values per feature:')\n",
    "print(missing_counts.to_string())\n",
    "missing_cols = [c for c, v in missing_counts.items() if v > 0]\n",
    "if missing_cols:\n",
    "    print('Columns with missing values:', ', '.join(missing_cols))\n",
    "else:\n",
    "    print('No missing values in selected features')\n",
    "\n",
    "# Q2: horsepower median\n",
    "hp_median = float(df['horsepower'].median())\n",
    "print('Median horsepower:', hp_median)\n"
   ]
  },
  {
   "cell_type": "markdown",
   "id": "d4552795",
   "metadata": {},
   "source": [
    "## Split (train/val/test 60/20/20)\n",
    "I shuffle with a fixed seed for reproducibility, then split 60/20/20 into train/val/test.\n"
   ]
  },
  {
   "cell_type": "code",
   "execution_count": 15,
   "id": "633be8a6",
   "metadata": {},
   "outputs": [
    {
     "data": {
      "text/plain": [
       "(5822, 1940, 1942)"
      ]
     },
     "execution_count": 15,
     "metadata": {},
     "output_type": "execute_result"
    }
   ],
   "source": [
    "def split_df(df, seed=42):\n",
    "    np.random.seed(seed)\n",
    "    n = len(df)\n",
    "    idx = np.arange(n)\n",
    "    np.random.shuffle(idx)\n",
    "    n_train = int(n * 0.6)\n",
    "    n_val = int(n * 0.2)\n",
    "    df_train = df.iloc[idx[:n_train]].reset_index(drop=True)\n",
    "    df_val = df.iloc[idx[n_train:n_train + n_val]].reset_index(drop=True)\n",
    "    df_test = df.iloc[idx[n_train + n_val:]].reset_index(drop=True)\n",
    "    return df_train, df_val, df_test\n",
    "\n",
    "def rmse(y_true, y_pred):\n",
    "    return float(np.sqrt(mean_squared_error(y_true, y_pred)))\n",
    "\n",
    "def prepare_X(df, fill_value=0.0):\n",
    "    X = df[FEATURES].copy()\n",
    "    X = X.fillna(fill_value)\n",
    "    return X.values\n",
    "\n",
    "df_train, df_val, df_test = split_df(df, seed=42)\n",
    "y_train = df_train[TARGET].values\n",
    "y_val = df_val[TARGET].values\n",
    "y_test = df_test[TARGET].values\n",
    "len(df_train), len(df_val), len(df_test)\n"
   ]
  },
  {
   "cell_type": "markdown",
   "id": "eac8de42",
   "metadata": {},
   "source": [
    "## Q3: Missing values — 0 vs mean\n",
    "Try two simple imputations (0 vs train mean) and compare validation RMSE.\n"
   ]
  },
  {
   "cell_type": "code",
   "execution_count": 16,
   "id": "3b01f370",
   "metadata": {},
   "outputs": [
    {
     "name": "stdout",
     "output_type": "stream",
     "text": [
      "RMSE (0): 0.52\n",
      "RMSE (mean): 0.46\n",
      "Better: mean\n"
     ]
    }
   ],
   "source": [
    "# fill with 0\n",
    "X_train_0 = prepare_X(df_train, fill_value=0)\n",
    "X_val_0 = prepare_X(df_val, fill_value=0)\n",
    "lr0 = LinearRegression()\n",
    "lr0.fit(X_train_0, y_train)\n",
    "pred_val_0 = lr0.predict(X_val_0)\n",
    "rmse_0 = rmse(y_val, pred_val_0)\n",
    "print('RMSE (0):', round(rmse_0, 2))\n",
    "\n",
    "# fill with mean (from train)\n",
    "means = df_train[FEATURES].mean()\n",
    "X_train_m = df_train[FEATURES].fillna(means).values\n",
    "X_val_m = df_val[FEATURES].fillna(means).values\n",
    "lr_m = LinearRegression()\n",
    "lr_m.fit(X_train_m, y_train)\n",
    "pred_val_m = lr_m.predict(X_val_m)\n",
    "rmse_m = rmse(y_val, pred_val_m)\n",
    "print('RMSE (mean):', round(rmse_m, 2))\n",
    "\n",
    "print('Better:', '0' if rmse_0 < rmse_m else 'mean' if rmse_m < rmse_0 else 'same')\n"
   ]
  },
  {
   "cell_type": "markdown",
   "id": "c92ac454",
   "metadata": {},
   "source": [
    "## Q4: Regularized linear regression (Ridge)\n",
    "Try a few `r` values for Ridge (0 = plain LinearRegression) and check val RMSE.\n"
   ]
  },
  {
   "cell_type": "code",
   "execution_count": 17,
   "id": "318bf40d",
   "metadata": {},
   "outputs": [
    {
     "name": "stdout",
     "output_type": "stream",
     "text": [
      "0 0.52\n",
      "0.01 0.52\n",
      "0.1 0.52\n",
      "1 0.52\n",
      "5 0.52\n",
      "10 0.52\n",
      "100 0.52\n",
      "Best r: 0\n"
     ]
    }
   ],
   "source": [
    "rs = [0, 0.01, 0.1, 1, 5, 10, 100]\n",
    "scores = []\n",
    "X_train = prepare_X(df_train, fill_value=0)\n",
    "X_val = prepare_X(df_val, fill_value=0)\n",
    "for r in rs:\n",
    "    if r == 0:\n",
    "        model = LinearRegression()\n",
    "    else:\n",
    "        model = Ridge(alpha=r)\n",
    "    model.fit(X_train, y_train)\n",
    "    p = model.predict(X_val)\n",
    "    s = rmse(y_val, p)\n",
    "    print(r, round(s, 2))\n",
    "    scores.append(s)\n",
    "best_r = rs[int(np.argmin(scores))]\n",
    "print('Best r:', best_r)\n"
   ]
  },
  {
   "cell_type": "markdown",
   "id": "9eee46ad",
   "metadata": {},
   "source": [
    "## Q5: Seeds and score stability\n",
    "Repeat the split with seeds 0..9, train LR with NA=0, collect val RMSEs and check std.\n"
   ]
  },
  {
   "cell_type": "code",
   "execution_count": 18,
   "id": "cb6c88ef",
   "metadata": {},
   "outputs": [
    {
     "name": "stdout",
     "output_type": "stream",
     "text": [
      "RMSEs: [0.521, 0.522, 0.523, 0.516, 0.511, 0.529, 0.532, 0.51, 0.515, 0.513]\n",
      "std: 0.007\n"
     ]
    }
   ],
   "source": [
    "rmses = []\n",
    "for seed in range(10):\n",
    "    dtr, dval, _ = split_df(df, seed=seed)\n",
    "    ytr = dtr[TARGET].values\n",
    "    yv = dval[TARGET].values\n",
    "    Xtr = prepare_X(dtr, fill_value=0)\n",
    "    Xv = prepare_X(dval, fill_value=0)\n",
    "    m = LinearRegression()\n",
    "    m.fit(Xtr, ytr)\n",
    "    pv = m.predict(Xv)\n",
    "    rmses.append(rmse(yv, pv))\n",
    "print('RMSEs:', [round(x, 3) for x in rmses])\n",
    "print('std:', round(float(np.std(rmses)), 3))\n"
   ]
  },
  {
   "cell_type": "markdown",
   "id": "0d1dca74",
   "metadata": {},
   "source": [
    "## Q6: Final model\n",
    "Use seed 9, train on train+val with Ridge (r=0.001), then report test RMSE.\n"
   ]
  },
  {
   "cell_type": "code",
   "execution_count": 19,
   "id": "56d74336",
   "metadata": {},
   "outputs": [
    {
     "name": "stdout",
     "output_type": "stream",
     "text": [
      "Test RMSE: 0.515\n"
     ]
    }
   ],
   "source": [
    "df_train, df_val, df_test = split_df(df, seed=9)\n",
    "df_full = pd.concat([df_train, df_val]).reset_index(drop=True)\n",
    "y_full = df_full[TARGET].values\n",
    "y_t = df_test[TARGET].values\n",
    "X_full = prepare_X(df_full, fill_value=0)\n",
    "X_t = prepare_X(df_test, fill_value=0)\n",
    "final = Ridge(alpha=0.001)\n",
    "final.fit(X_full, y_full)\n",
    "pt = final.predict(X_t)\n",
    "print('Test RMSE:', round(rmse(y_t, pt), 3))\n"
   ]
  }
 ],
 "metadata": {
  "kernelspec": {
   "display_name": "Python 3",
   "language": "python",
   "name": "python3"
  },
  "language_info": {
   "name": "python",
   "version": "3.11"
  }
 },
 "nbformat": 4,
 "nbformat_minor": 5
}
