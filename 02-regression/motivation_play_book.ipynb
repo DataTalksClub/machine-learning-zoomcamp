{
 "cells": [],
 "metadata": {
  "kernelspec": {
   "display_name": "dsenv",
   "language": "python",
   "name": "python3"
  },
  "language_info": {
   "name": "python",
   "version": "3.11.13"
  }
 },
 "nbformat": 4,
 "nbformat_minor": 5
}
