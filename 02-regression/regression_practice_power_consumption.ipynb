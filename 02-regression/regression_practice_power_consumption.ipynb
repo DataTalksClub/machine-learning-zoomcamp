{
 "cells": [
  {
   "cell_type": "code",
   "execution_count": 2,
   "id": "38ceed1e",
   "metadata": {},
   "outputs": [
    {
     "name": "stdout",
     "output_type": "stream",
     "text": [
      "Collecting ucimlrepo\n",
      "  Using cached ucimlrepo-0.0.7-py3-none-any.whl.metadata (5.5 kB)\n",
      "Requirement already satisfied: pandas>=1.0.0 in c:\\users\\gk111\\miniconda3\\envs\\dsenv\\lib\\site-packages (from ucimlrepo) (2.3.2)\n",
      "Requirement already satisfied: certifi>=2020.12.5 in c:\\users\\gk111\\miniconda3\\envs\\dsenv\\lib\\site-packages (from ucimlrepo) (2025.8.3)\n",
      "Requirement already satisfied: numpy>=1.23.2 in c:\\users\\gk111\\miniconda3\\envs\\dsenv\\lib\\site-packages (from pandas>=1.0.0->ucimlrepo) (2.3.2)\n",
      "Requirement already satisfied: python-dateutil>=2.8.2 in c:\\users\\gk111\\miniconda3\\envs\\dsenv\\lib\\site-packages (from pandas>=1.0.0->ucimlrepo) (2.9.0.post0)\n",
      "Requirement already satisfied: pytz>=2020.1 in c:\\users\\gk111\\miniconda3\\envs\\dsenv\\lib\\site-packages (from pandas>=1.0.0->ucimlrepo) (2025.2)\n",
      "Requirement already satisfied: tzdata>=2022.7 in c:\\users\\gk111\\miniconda3\\envs\\dsenv\\lib\\site-packages (from pandas>=1.0.0->ucimlrepo) (2025.2)\n",
      "Requirement already satisfied: six>=1.5 in c:\\users\\gk111\\miniconda3\\envs\\dsenv\\lib\\site-packages (from python-dateutil>=2.8.2->pandas>=1.0.0->ucimlrepo) (1.17.0)\n",
      "Using cached ucimlrepo-0.0.7-py3-none-any.whl (8.0 kB)\n",
      "Installing collected packages: ucimlrepo\n",
      "Successfully installed ucimlrepo-0.0.7\n"
     ]
    }
   ],
   "source": [
    "!pip install ucimlrepo"
   ]
  },
  {
   "cell_type": "code",
   "execution_count": 3,
   "id": "18cb7728",
   "metadata": {},
   "outputs": [
    {
     "name": "stderr",
     "output_type": "stream",
     "text": [
      "c:\\Users\\GK111\\miniconda3\\envs\\dsenv\\Lib\\site-packages\\ucimlrepo\\fetch.py:97: DtypeWarning: Columns (2,3,4,5,6,7) have mixed types. Specify dtype option on import or set low_memory=False.\n",
      "  df = pd.read_csv(data_url)\n"
     ]
    },
    {
     "name": "stdout",
     "output_type": "stream",
     "text": [
      "{'uci_id': 235, 'name': 'Individual Household Electric Power Consumption', 'repository_url': 'https://archive.ics.uci.edu/dataset/235/individual+household+electric+power+consumption', 'data_url': 'https://archive.ics.uci.edu/static/public/235/data.csv', 'abstract': 'Measurements of electric power consumption in one household with a one-minute sampling rate over a period of almost 4 years. Different electrical quantities and some sub-metering values are available.', 'area': 'Physics and Chemistry', 'tasks': ['Regression', 'Clustering'], 'characteristics': ['Multivariate', 'Time-Series'], 'num_instances': 2075259, 'num_features': 9, 'feature_types': ['Real'], 'demographics': [], 'target_col': None, 'index_col': None, 'has_missing_values': 'no', 'missing_values_symbol': None, 'year_of_dataset_creation': 2006, 'last_updated': 'Fri Mar 08 2024', 'dataset_doi': '10.24432/C58K54', 'creators': ['Georges Hebrail', 'Alice Berard'], 'intro_paper': None, 'additional_info': {'summary': 'This archive contains 2075259 measurements gathered in a house located in Sceaux (7km of Paris, France) between December 2006 and November 2010 (47 months).\\r\\nNotes: \\r\\n1.(global_active_power*1000/60 - sub_metering_1 - sub_metering_2 - sub_metering_3) represents the active energy consumed every minute (in watt hour) in the household by electrical equipment not measured in sub-meterings 1, 2 and 3.\\r\\n2.The dataset contains some missing values in the measurements (nearly 1,25% of the rows). All calendar timestamps are present in the dataset but for some timestamps, the measurement values are missing: a missing value is represented by the absence of value between two consecutive semi-colon attribute separators. For instance, the dataset shows missing values on April 28, 2007.', 'purpose': None, 'funded_by': None, 'instances_represent': None, 'recommended_data_splits': None, 'sensitive_data': None, 'preprocessing_description': None, 'variable_info': '1.date: Date in format dd/mm/yyyy\\r\\n2.time: time in format hh:mm:ss\\r\\n3.global_active_power: household global minute-averaged active power (in kilowatt)\\r\\n4.global_reactive_power: household global minute-averaged reactive power (in kilowatt)\\r\\n5.voltage: minute-averaged voltage (in volt)\\r\\n6.global_intensity: household global minute-averaged current intensity (in ampere)\\r\\n7.sub_metering_1: energy sub-metering No. 1 (in watt-hour of active energy). It corresponds to the kitchen, containing mainly a dishwasher, an oven and a microwave (hot plates are not electric but gas powered).\\r\\n8.sub_metering_2: energy sub-metering No. 2 (in watt-hour of active energy). It corresponds to the laundry room, containing a washing-machine, a tumble-drier, a refrigerator and a light.\\r\\n9.sub_metering_3: energy sub-metering No. 3 (in watt-hour of active energy). It corresponds to an electric water-heater and an air-conditioner.', 'citation': None}}\n",
      "                    name     role         type demographic description units  \\\n",
      "0                   Date  Feature         Date        None        None  None   \n",
      "1                   Time  Feature  Categorical        None        None  None   \n",
      "2    Global_active_power  Feature   Continuous        None        None  None   \n",
      "3  Global_reactive_power  Feature   Continuous        None        None  None   \n",
      "4                Voltage  Feature   Continuous        None        None  None   \n",
      "5       Global_intensity  Feature   Continuous        None        None  None   \n",
      "6         Sub_metering_1  Feature   Continuous        None        None  None   \n",
      "7         Sub_metering_2  Feature   Continuous        None        None  None   \n",
      "8         Sub_metering_3  Feature   Continuous        None        None  None   \n",
      "\n",
      "  missing_values  \n",
      "0             no  \n",
      "1             no  \n",
      "2             no  \n",
      "3             no  \n",
      "4             no  \n",
      "5             no  \n",
      "6             no  \n",
      "7             no  \n",
      "8             no  \n"
     ]
    }
   ],
   "source": [
    "from ucimlrepo import fetch_ucirepo \n",
    "  \n",
    "# fetch dataset \n",
    "individual_household_electric_power_consumption = fetch_ucirepo(id=235) \n",
    "  \n",
    "# data (as pandas dataframes) \n",
    "X = individual_household_electric_power_consumption.data.features \n",
    "y = individual_household_electric_power_consumption.data.targets \n",
    "  \n",
    "# metadata \n",
    "print(individual_household_electric_power_consumption.metadata) \n",
    "  \n",
    "# variable information \n",
    "print(individual_household_electric_power_consumption.variables) \n"
   ]
  },
  {
   "cell_type": "code",
   "execution_count": null,
   "id": "24c51d19",
   "metadata": {},
   "outputs": [],
   "source": []
  }
 ],
 "metadata": {
  "kernelspec": {
   "display_name": "dsenv",
   "language": "python",
   "name": "python3"
  },
  "language_info": {
   "codemirror_mode": {
    "name": "ipython",
    "version": 3
   },
   "file_extension": ".py",
   "mimetype": "text/x-python",
   "name": "python",
   "nbconvert_exporter": "python",
   "pygments_lexer": "ipython3",
   "version": "3.11.13"
  }
 },
 "nbformat": 4,
 "nbformat_minor": 5
}
